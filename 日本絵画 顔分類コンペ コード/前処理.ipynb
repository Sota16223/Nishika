{
 "cells": [
  {
   "cell_type": "code",
   "execution_count": null,
   "id": "9d7264f6",
   "metadata": {},
   "outputs": [],
   "source": [
    "conda install -c apple tensorflow-deps"
   ]
  },
  {
   "cell_type": "code",
   "execution_count": null,
   "id": "1b13f927",
   "metadata": {},
   "outputs": [],
   "source": [
    "conda install pandas"
   ]
  },
  {
   "cell_type": "code",
   "execution_count": null,
   "id": "fb2bc133",
   "metadata": {},
   "outputs": [],
   "source": [
    "%pip install tensorflow-macos"
   ]
  },
  {
   "cell_type": "code",
   "execution_count": null,
   "id": "08a07c8a",
   "metadata": {},
   "outputs": [],
   "source": [
    "%pip install tensorflow-metal"
   ]
  },
  {
   "cell_type": "code",
   "execution_count": null,
   "id": "a2b9d694",
   "metadata": {},
   "outputs": [],
   "source": [
    "import numpy as np\n",
    "print(np.__version__)"
   ]
  },
  {
   "cell_type": "code",
   "execution_count": null,
   "id": "e5064352",
   "metadata": {},
   "outputs": [],
   "source": [
    "conda install numpy=1.26.4"
   ]
  },
  {
   "cell_type": "code",
   "execution_count": null,
   "id": "03ac6f6d",
   "metadata": {},
   "outputs": [],
   "source": [
    "conda install scikit-learn"
   ]
  },
  {
   "cell_type": "code",
   "execution_count": null,
   "id": "7d2d2696",
   "metadata": {},
   "outputs": [],
   "source": [
    "%pip install opencv-python"
   ]
  },
  {
   "cell_type": "code",
   "execution_count": null,
   "id": "e510a110",
   "metadata": {},
   "outputs": [],
   "source": [
    "%pip install matplotlib"
   ]
  },
  {
   "cell_type": "code",
   "execution_count": null,
   "id": "135d72b4",
   "metadata": {},
   "outputs": [],
   "source": [
    "import sys\n",
    "\n",
    "import tensorflow.keras\n",
    "import pandas as pd\n",
    "import sklearn as sk\n",
    "import scipy as sp\n",
    "import tensorflow as tf\n",
    "import platform\n",
    "\n",
    "print(f\"Python Platform: {platform.platform()}\")\n",
    "print(f\"Tensor Flow Version: {tf.__version__}\")\n",
    "print(f\"Keras Version: {tensorflow.keras.__version__}\")\n",
    "print()\n",
    "print(f\"Python {sys.version}\")\n",
    "print(f\"Pandas {pd.__version__}\")\n",
    "print(f\"Scikit-Learn {sk.__version__}\")\n",
    "print(f\"SciPy {sp.__version__}\")\n",
    "gpu = len(tf.config.list_physical_devices('GPU'))>0\n",
    "print(\"GPU is\", \"available\" if gpu else \"NOT AVAILABLE\")"
   ]
  },
  {
   "cell_type": "code",
   "execution_count": null,
   "id": "78f6b26a",
   "metadata": {},
   "outputs": [],
   "source": [
    "import tensorflow as tf\n",
    "print(tf.config.list_physical_devices('GPU'))"
   ]
  },
  {
   "cell_type": "code",
   "execution_count": null,
   "id": "554848e1",
   "metadata": {},
   "outputs": [],
   "source": [
    "# 対応表のパスを設定\n",
    "csv_path = '/Users/sota/Documents/Nishika/日本絵画 顔分類コンペ コード/data/train.csv'\n",
    "data_dir = '/Users/sota/Documents/Nishika/日本絵画 顔分類コンペ コード/data/train'\n",
    "\n",
    "# 対応表を読み込み\n",
    "df = pd.read_csv(csv_path)\n",
    "\n",
    "df_filtered = df[df['gender_status'] != 5]"
   ]
  },
  {
   "cell_type": "code",
   "execution_count": null,
   "id": "0ec5dc84",
   "metadata": {},
   "outputs": [],
   "source": [
    "# 各カテゴリの画像の枚数を数える\n",
    "category_counts = df['gender_status'].value_counts()\n",
    "\n",
    "# 結果を表示\n",
    "for category, count in category_counts.items():\n",
    "    print(f\"カテゴリ {category} の画像枚数: {count}\")"
   ]
  },
  {
   "cell_type": "code",
   "execution_count": null,
   "id": "970b7386",
   "metadata": {},
   "outputs": [],
   "source": [
    "# カテゴリ5の画像のパスを取得\n",
    "category_5_images = df[df['gender_status'] == 5]['image'].tolist()\n",
    "\n",
    "# 画像の表示\n",
    "for img_name in category_5_images:\n",
    "    img_path = os.path.join(data_dir, img_name)\n",
    "    img = cv2.imread(img_path, cv2.IMREAD_GRAYSCALE)\n",
    "    if img is not None:\n",
    "        plt.imshow(img, cmap='gray')\n",
    "        plt.title(f\"カテゴリ 5 の画像: {img_name}\")\n",
    "        plt.show()\n",
    "    else:\n",
    "        print(f\"画像が見つからないか、読み込めませんでした: {img_path}\")"
   ]
  }
 ],
 "metadata": {
  "language_info": {
   "name": "python"
  }
 },
 "nbformat": 4,
 "nbformat_minor": 5
}
