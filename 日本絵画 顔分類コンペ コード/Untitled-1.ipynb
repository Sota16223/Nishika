{
 "cells": [
  {
   "cell_type": "code",
   "execution_count": null,
   "metadata": {},
   "outputs": [],
   "source": [
    "conda install -c apple tensorflow-deps"
   ]
  },
  {
   "cell_type": "code",
   "execution_count": null,
   "metadata": {},
   "outputs": [],
   "source": [
    "conda install pandas"
   ]
  },
  {
   "cell_type": "code",
   "execution_count": null,
   "metadata": {},
   "outputs": [],
   "source": [
    "%pip install tensorflow-macos"
   ]
  },
  {
   "cell_type": "code",
   "execution_count": null,
   "metadata": {},
   "outputs": [],
   "source": [
    "%pip install tensorflow-metal"
   ]
  },
  {
   "cell_type": "code",
   "execution_count": null,
   "metadata": {},
   "outputs": [],
   "source": [
    "%pip install numpy==1.26.4"
   ]
  },
  {
   "cell_type": "code",
   "execution_count": null,
   "metadata": {},
   "outputs": [],
   "source": [
    "import numpy as np\n",
    "print(np.__version__)"
   ]
  },
  {
   "cell_type": "code",
   "execution_count": null,
   "metadata": {},
   "outputs": [],
   "source": [
    "conda install numpy=1.26.4"
   ]
  },
  {
   "cell_type": "code",
   "execution_count": null,
   "metadata": {},
   "outputs": [],
   "source": [
    "conda install scikit-learn"
   ]
  },
  {
   "cell_type": "code",
   "execution_count": null,
   "metadata": {},
   "outputs": [],
   "source": [
    "import sys\n",
    "\n",
    "import tensorflow.keras\n",
    "import pandas as pd\n",
    "import sklearn as sk\n",
    "import scipy as sp\n",
    "import tensorflow as tf\n",
    "import platform\n",
    "\n",
    "print(f\"Python Platform: {platform.platform()}\")\n",
    "print(f\"Tensor Flow Version: {tf.__version__}\")\n",
    "print(f\"Keras Version: {tensorflow.keras.__version__}\")\n",
    "print()\n",
    "print(f\"Python {sys.version}\")\n",
    "print(f\"Pandas {pd.__version__}\")\n",
    "print(f\"Scikit-Learn {sk.__version__}\")\n",
    "print(f\"SciPy {sp.__version__}\")\n",
    "gpu = len(tf.config.list_physical_devices('GPU'))>0\n",
    "print(\"GPU is\", \"available\" if gpu else \"NOT AVAILABLE\")"
   ]
  },
  {
   "cell_type": "code",
   "execution_count": 11,
   "metadata": {},
   "outputs": [
    {
     "ename": "ModuleNotFoundError",
     "evalue": "No module named 'cv2'",
     "output_type": "error",
     "traceback": [
      "\u001b[31m---------------------------------------------------------------------------\u001b[39m",
      "\u001b[31mModuleNotFoundError\u001b[39m                       Traceback (most recent call last)",
      "\u001b[36mCell\u001b[39m\u001b[36m \u001b[39m\u001b[32mIn[11]\u001b[39m\u001b[32m, line 4\u001b[39m\n\u001b[32m      2\u001b[39m \u001b[38;5;28;01mimport\u001b[39;00m\u001b[38;5;250m \u001b[39m\u001b[34;01mnumpy\u001b[39;00m\u001b[38;5;250m \u001b[39m\u001b[38;5;28;01mas\u001b[39;00m\u001b[38;5;250m \u001b[39m\u001b[34;01mnp\u001b[39;00m\n\u001b[32m      3\u001b[39m \u001b[38;5;28;01mimport\u001b[39;00m\u001b[38;5;250m \u001b[39m\u001b[34;01mos\u001b[39;00m\n\u001b[32m----> \u001b[39m\u001b[32m4\u001b[39m \u001b[38;5;28;01mimport\u001b[39;00m\u001b[38;5;250m \u001b[39m\u001b[34;01mcv2\u001b[39;00m\n\u001b[32m      5\u001b[39m \u001b[38;5;28;01mfrom\u001b[39;00m\u001b[38;5;250m \u001b[39m\u001b[34;01msklearn\u001b[39;00m\u001b[34;01m.\u001b[39;00m\u001b[34;01mutils\u001b[39;00m\u001b[38;5;250m \u001b[39m\u001b[38;5;28;01mimport\u001b[39;00m shuffle\n\u001b[32m      6\u001b[39m \u001b[38;5;28;01mfrom\u001b[39;00m\u001b[38;5;250m \u001b[39m\u001b[34;01msklearn\u001b[39;00m\u001b[34;01m.\u001b[39;00m\u001b[34;01mmodel_selection\u001b[39;00m\u001b[38;5;250m \u001b[39m\u001b[38;5;28;01mimport\u001b[39;00m train_test_split\n",
      "\u001b[31mModuleNotFoundError\u001b[39m: No module named 'cv2'"
     ]
    }
   ],
   "source": [
    "import pandas as pd\n",
    "import numpy as np\n",
    "import os\n",
    "import cv2\n",
    "from sklearn.utils import shuffle\n",
    "from sklearn.model_selection import train_test_split\n",
    "from sklearn.utils.class_weight import compute_class_weight\n",
    "from tensorflow.keras.utils import to_categorical\n",
    "from tensorflow.keras.preprocessing.image import ImageDataGenerator\n",
    "from tensorflow.keras.models import Model\n",
    "from tensorflow.keras.layers import Input, Conv2D, BatchNormalization, MaxPooling2D, Dropout, Flatten, Dense\n",
    "from tensorflow.keras.optimizers import Adam\n",
    "from tensorflow.keras.callbacks import EarlyStopping\n",
    "from matplotlib import pyplot as plt"
   ]
  },
  {
   "cell_type": "code",
   "execution_count": null,
   "metadata": {},
   "outputs": [],
   "source": [
    "import tensorflow as tf\n",
    "print(tf.config.list_physical_devices('GPU'))"
   ]
  },
  {
   "cell_type": "code",
   "execution_count": 8,
   "metadata": {},
   "outputs": [],
   "source": [
    "# 対応表のパスを設定\n",
    "csv_path = '/Users/sota/Documents/Nishika/日本絵画 顔分類コンペ コード/data/train.csv'\n",
    "data_dir = '/Users/sota/Documents/Nishika/日本絵画 顔分類コンペ コード/data/train'\n",
    "\n",
    "# 対応表を読み込み\n",
    "df = pd.read_csv(csv_path)\n",
    "\n",
    "df_filtered = df[df['gender_status'] != 5]"
   ]
  },
  {
   "cell_type": "code",
   "execution_count": 9,
   "metadata": {},
   "outputs": [
    {
     "name": "stdout",
     "output_type": "stream",
     "text": [
      "カテゴリ 1 の画像枚数: 1294\n",
      "カテゴリ 0 の画像枚数: 1210\n",
      "カテゴリ 4 の画像枚数: 834\n",
      "カテゴリ 2 の画像枚数: 375\n",
      "カテゴリ 3 の画像枚数: 371\n",
      "カテゴリ 7 の画像枚数: 100\n",
      "カテゴリ 6 の画像枚数: 53\n",
      "カテゴリ 5 の画像枚数: 1\n"
     ]
    }
   ],
   "source": [
    "# 各カテゴリの画像の枚数を数える\n",
    "category_counts = df['gender_status'].value_counts()\n",
    "\n",
    "# 結果を表示\n",
    "for category, count in category_counts.items():\n",
    "    print(f\"カテゴリ {category} の画像枚数: {count}\")"
   ]
  },
  {
   "cell_type": "code",
   "execution_count": 10,
   "metadata": {},
   "outputs": [
    {
     "ename": "NameError",
     "evalue": "name 'os' is not defined",
     "output_type": "error",
     "traceback": [
      "\u001b[31m---------------------------------------------------------------------------\u001b[39m",
      "\u001b[31mNameError\u001b[39m                                 Traceback (most recent call last)",
      "\u001b[36mCell\u001b[39m\u001b[36m \u001b[39m\u001b[32mIn[10]\u001b[39m\u001b[32m, line 6\u001b[39m\n\u001b[32m      4\u001b[39m \u001b[38;5;66;03m# 画像の表示\u001b[39;00m\n\u001b[32m      5\u001b[39m \u001b[38;5;28;01mfor\u001b[39;00m img_name \u001b[38;5;129;01min\u001b[39;00m category_5_images:\n\u001b[32m----> \u001b[39m\u001b[32m6\u001b[39m     img_path = \u001b[43mos\u001b[49m.path.join(data_dir, img_name)\n\u001b[32m      7\u001b[39m     img = cv2.imread(img_path, cv2.IMREAD_GRAYSCALE)\n\u001b[32m      8\u001b[39m     \u001b[38;5;28;01mif\u001b[39;00m img \u001b[38;5;129;01mis\u001b[39;00m \u001b[38;5;129;01mnot\u001b[39;00m \u001b[38;5;28;01mNone\u001b[39;00m:\n",
      "\u001b[31mNameError\u001b[39m: name 'os' is not defined"
     ]
    }
   ],
   "source": [
    "# カテゴリ5の画像のパスを取得\n",
    "category_5_images = df[df['gender_status'] == 5]['image'].tolist()\n",
    "\n",
    "# 画像の表示\n",
    "for img_name in category_5_images:\n",
    "    img_path = os.path.join(data_dir, img_name)\n",
    "    img = cv2.imread(img_path, cv2.IMREAD_GRAYSCALE)\n",
    "    if img is not None:\n",
    "        plt.imshow(img, cmap='gray')\n",
    "        plt.title(f\"カテゴリ 5 の画像: {img_name}\")\n",
    "        plt.show()\n",
    "    else:\n",
    "        print(f\"画像が見つからないか、読み込めませんでした: {img_path}\")"
   ]
  },
  {
   "cell_type": "code",
   "execution_count": null,
   "metadata": {},
   "outputs": [],
   "source": [
    "# データとラベルを格納するリスト\n",
    "x_data = []\n",
    "y_data = []\n",
    "\n",
    "# データの読み込み\n",
    "for index, row in df_filtered.iterrows():\n",
    "    img_path = os.path.join(data_dir, row['image'])  # 'image' 列を使用\n",
    "    img = cv2.imread(img_path, cv2.IMREAD_GRAYSCALE)\n",
    "    if img is not None:\n",
    "        img = cv2.resize(img, (100, 100))\n",
    "        x_data.append(img)\n",
    "        y_data.append(row['gender_status'])  # 'gender_status' 列を使用\n",
    "    else:\n",
    "        print(f\"画像が見つからないか、読み込めませんでした: {img_path}\")\n",
    "\n",
    "# NumPy配列に変換\n",
    "x_data = np.array(x_data).reshape(-1, 100, 100, 1)\n",
    "y_data = np.array(y_data)\n",
    "\n",
    "# クラス重みを計算\n",
    "class_weights = compute_class_weight(class_weight='balanced', classes=np.unique(y_data), y=y_data)\n",
    "class_weights_dict = {i: class_weights[i] for i in range(len(class_weights))}\n",
    "\n",
    "# データをトレーニングセットと検証セットに分割\n",
    "x_train, x_val, y_train, y_val = train_test_split(x_data, y_data, test_size=0.3, random_state=42, stratify=y_data)\n",
    "\n",
    "# データのシャッフル\n",
    "x_train, y_train = shuffle(x_train, y_train, random_state=42)\n",
    "x_val, y_val = shuffle(x_val, y_val, random_state=42)\n",
    "\n",
    "# ラベルをカテゴリカルデータに変換\n",
    "y_train_categorical = to_categorical(y_train, num_classes=8)\n",
    "y_val_categorical = to_categorical(y_val, num_classes=8)"
   ]
  },
  {
   "cell_type": "code",
   "execution_count": null,
   "metadata": {},
   "outputs": [],
   "source": [
    "# モデルの定義\n",
    "inputs = Input(shape=(100, 100, 1))\n",
    "x = Conv2D(32, (3, 3), activation='relu')(inputs)\n",
    "x = BatchNormalization()(x)\n",
    "x = MaxPooling2D((2, 2))(x)\n",
    "x = Dropout(0.5)(x)\n",
    "\n",
    "x = Conv2D(64, (3, 3), activation='relu')(x)\n",
    "x = BatchNormalization()(x)\n",
    "x = MaxPooling2D((2, 2))(x)\n",
    "x = Dropout(0.5)(x)\n",
    "\n",
    "x = Conv2D(128, (3, 3), activation='relu')(x)\n",
    "x = BatchNormalization()(x)\n",
    "x = MaxPooling2D((2, 2))(x)\n",
    "x = Dropout(0.5)(x)\n",
    "\n",
    "#x = Flatten()(x)\n",
    "#x = Dense(256, activation='relu')(x)\n",
    "x = BatchNormalization()(x) #グローバルアヴェレージツーリングに変更\n",
    "x = Dropout(0.5)(x)\n",
    "outputs = Dense(8, activation='softmax')(x)\n",
    "\n",
    "history_model = Model(inputs=inputs, outputs=outputs)\n",
    "\n",
    "# モデルのコンパイル\n",
    "history_model.compile(optimizer=Adam(), loss='categorical_crossentropy', metrics=['accuracy'])\n",
    "\n",
    "# 早期終了のコールバックを設定\n",
    "early_stopping = EarlyStopping(monitor='val_loss', patience=10, restore_best_weights=True)"
   ]
  },
  {
   "cell_type": "code",
   "execution_count": null,
   "metadata": {},
   "outputs": [],
   "source": [
    "# モデルの訓練\n",
    "history = history_model.fit(x_train, y_train_categorical\n",
    "                                     , epochs=50, batch_size=64\n",
    "                                     , validation_data=(x_val, y_val_categorical)\n",
    "                                     , class_weight=class_weights_dict, callbacks=[early_stopping]\n",
    "                                     , shuffle=True\n",
    "                                     )"
   ]
  },
  {
   "cell_type": "code",
   "execution_count": null,
   "metadata": {},
   "outputs": [],
   "source": [
    "# テストデータのディレクトリパスを設定\n",
    "test_data_dir = 'c:\\\\Users\\\\souta\\\\Documents\\\\Test\\\\testB\\\\data\\\\test\\\\test'\n",
    "\n",
    "# テストデータの画像を読み込み、前処理\n",
    "x_test = []\n",
    "image_names = []\n",
    "\n",
    "for img_name in os.listdir(test_data_dir):\n",
    "    img_path = os.path.join(test_data_dir, img_name)\n",
    "    img = cv2.imread(img_path, cv2.IMREAD_GRAYSCALE)\n",
    "    if img is not None:\n",
    "        img = cv2.resize(img, (100, 100))\n",
    "        x_test.append(img)\n",
    "        image_names.append(img_name)\n",
    "    else:\n",
    "        print(f\"画像が見つからないか、読み込めませんでした: {img_path}\")\n",
    "\n",
    "# NumPy配列に変換\n",
    "x_test = np.array(x_test).reshape(-1, 100, 100, 1)\n",
    "\n",
    "# 予測を行う\n",
    "predictions = history_model.predict(x_test)\n",
    "predicted_classes = np.argmax(predictions, axis=1)\n",
    "\n",
    "# 結果をDataFrameにまとめる\n",
    "results_df = pd.DataFrame({'image': image_names, 'predicted_gender_status': predicted_classes})\n",
    "\n",
    "# 結果をCSVファイルに保存\n",
    "results_csv_path = 'c:\\\\Users\\\\souta\\\\Documents\\\\Test\\\\testB\\\\data\\\\predictions.csv'\n",
    "results_df.to_csv(results_csv_path, index=False)\n",
    "\n",
    "print(f\"予測結果が {results_csv_path} に保存されました。\")"
   ]
  }
 ],
 "metadata": {
  "kernelspec": {
   "display_name": "Nishika",
   "language": "python",
   "name": "python3"
  },
  "language_info": {
   "codemirror_mode": {
    "name": "ipython",
    "version": 3
   },
   "file_extension": ".py",
   "mimetype": "text/x-python",
   "name": "python",
   "nbconvert_exporter": "python",
   "pygments_lexer": "ipython3",
   "version": "3.12.9"
  }
 },
 "nbformat": 4,
 "nbformat_minor": 2
}
